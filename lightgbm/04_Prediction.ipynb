{
 "cells": [
  {
   "cell_type": "markdown",
   "metadata": {},
   "source": [
    "## Visualization of the results\n",
    "---\n",
    "\n",
    "Now we can make a prediction.\n",
    "\n",
    "Here we define a workflow to make the model predict based on the existing EOPatches."
   ]
  },
  {
   "cell_type": "code",
   "execution_count": 1,
   "metadata": {},
   "outputs": [],
   "source": [
    "%reload_ext autoreload\n",
    "%autoreload 2\n",
    "%matplotlib inline"
   ]
  },
  {
   "cell_type": "code",
   "execution_count": 2,
   "metadata": {},
   "outputs": [],
   "source": [
    "import sys\n",
    "import os\n",
    "\n",
    "import pickle\n",
    "\n",
    "# Basics of Python data handling and visualization\n",
    "import itertools\n",
    "import numpy as np\n",
    "np.random.seed(42)\n",
    "import geopandas as gpd\n",
    "import matplotlib as mpl\n",
    "import matplotlib.pyplot as plt\n",
    "from matplotlib.colors import ListedColormap, BoundaryNorm\n",
    "from mpl_toolkits.axes_grid1 import make_axes_locatable\n",
    "from IPython.display import Image "
   ]
  },
  {
   "cell_type": "code",
   "execution_count": null,
   "metadata": {},
   "outputs": [],
   "source": [
    "from sklearn.externals import joblib\n",
    "from aenum import MultiValueEnum"
   ]
  },
  {
   "cell_type": "code",
   "execution_count": null,
   "metadata": {},
   "outputs": [],
   "source": [
    "# Imports from eo-learn and sentinelhub-py\n",
    "from eolearn.core import EOTask, EOPatch, LinearWorkflow, FeatureType, OverwritePermission, LoadTask, SaveTask, EOExecutor, ExtractBandsTask, MergeFeatureTask\n",
    "from eolearn.geometry import VectorToRaster, PointSamplingTask, ErosionTask\n",
    "from eolearn.io import ExportToTiff\n",
    "from eolearn.features import LinearInterpolation, SimpleFilterTask, NormalizedDifferenceIndexTask\n",
    "from sentinelhub import UtmZoneSplitter, BBox, CRS, DataSource"
   ]
  },
  {
   "cell_type": "code",
   "execution_count": null,
   "metadata": {},
   "outputs": [],
   "source": [
    "from osgeo import gdal\n",
    "#specify the path to the gdal_merge.py script\n",
    "sys.path.append('./...')\n",
    "import gdal_merge"
   ]
  },
  {
   "cell_type": "code",
   "execution_count": null,
   "metadata": {},
   "outputs": [],
   "source": [
    "from pathlib import Path\n",
    "path = Path('./')"
   ]
  },
  {
   "cell_type": "markdown",
   "metadata": {},
   "source": [
    "### Define EOTasks"
   ]
  },
  {
   "cell_type": "code",
   "execution_count": null,
   "metadata": {},
   "outputs": [],
   "source": [
    "class PredictPatch(EOTask):\n",
    "    \"\"\"\n",
    "    Task to make model predictions on a patch. Provide the model and the feature, \n",
    "    and the output names of labels and scores (optional)\n",
    "    \"\"\"\n",
    "    def __init__(self, model, features_feature, predicted_labels_name, predicted_scores_name=None):\n",
    "        self.model = model\n",
    "        self.features_feature = features_feature\n",
    "        self.predicted_labels_name = predicted_labels_name\n",
    "        self.predicted_scores_name = predicted_scores_name\n",
    "        \n",
    "    def execute(self, eopatch):\n",
    "        ftrs = eopatch[self.features_feature[0]][self.features_feature[1]]\n",
    "        \n",
    "        t, w, h, f = ftrs.shape\n",
    "        ftrs = np.moveaxis(ftrs, 0, 2).reshape(w * h, t * f)\n",
    "        \n",
    "        plabels = self.model.predict(ftrs)\n",
    "        plabels = plabels.reshape(w, h)\n",
    "        plabels = plabels[..., np.newaxis]\n",
    "        eopatch.add_feature(FeatureType.MASK_TIMELESS, self.predicted_labels_name, plabels)\n",
    "        \n",
    "        if self.predicted_scores_name:\n",
    "            pscores = self.model.predict_proba(ftrs)\n",
    "            _, d = pscores.shape\n",
    "            pscores = pscores.reshape(w, h, d)\n",
    "            eopatch.add_feature(FeatureType.DATA_TIMELESS, self.predicted_scores_name, pscores)\n",
    "        \n",
    "        return eopatch"
   ]
  },
  {
   "cell_type": "markdown",
   "metadata": {},
   "source": [
    "### Define Tasks and the Workflow"
   ]
  },
  {
   "cell_type": "code",
   "execution_count": null,
   "metadata": {},
   "outputs": [],
   "source": [
    "path_out_sampled = './data/eopatches_sampled'"
   ]
  },
  {
   "cell_type": "code",
   "execution_count": null,
   "metadata": {},
   "outputs": [],
   "source": [
    "# load the trained model from the previous notebook\n",
    "model_path = './model_SI_LndC.pkl'\n",
    "model = joblib.load(model_path)\n",
    "\n",
    "# predict the test labels\n",
    "#plabels_test = model.predict(features_test)"
   ]
  },
  {
   "cell_type": "code",
   "execution_count": null,
   "metadata": {},
   "outputs": [],
   "source": [
    "# TASK TO LOAD EXISTING EOPATCHES\n",
    "load = LoadTask(path_out_sampled)\n",
    "\n",
    "# TASK FOR PREDICTION\n",
    "predict = PredictPatch(model, (FeatureType.DATA, 'FEATURES'), 'LBL_GBM', 'SCR_GBM')\n",
    "\n",
    "# TASK FOR SAVING\n",
    "save = SaveTask(str(path_out_sampled), overwrite_permission=OverwritePermission.OVERWRITE_PATCH)\n",
    "\n",
    "# TASK TO EXPORT TIFF\n",
    "export_tiff = ExportToTiff((FeatureType.MASK_TIMELESS, 'LBL_GBM'))\n",
    "tiff_location = './data/predicted_tiff'\n",
    "if not os.path.isdir(tiff_location):\n",
    "    os.makedirs(tiff_location)\n",
    "\n",
    "workflow = LinearWorkflow(\n",
    "    load,\n",
    "    predict,\n",
    "    export_tiff,\n",
    "    save\n",
    ")"
   ]
  },
  {
   "cell_type": "code",
   "execution_count": null,
   "metadata": {},
   "outputs": [],
   "source": [
    "# Get the patchIDs from the previous notebook\n",
    "#load array\n",
    "fp = os.path.join(path/'data'/'tile-def/', 'patchIDs.csv')\n",
    "patchIDs = np.fromfile(fp, dtype=int)\n",
    "# print the array\n",
    "print(patchIDs)"
   ]
  },
  {
   "cell_type": "markdown",
   "metadata": {},
   "source": [
    "### Run the prediction and export to GeoTIFF images"
   ]
  },
  {
   "cell_type": "code",
   "execution_count": null,
   "metadata": {},
   "outputs": [],
   "source": [
    "# create a list of execution arguments for each patch\n",
    "execution_args = []\n",
    "for i in patchIDs:\n",
    "    execution_args.append(\n",
    "        {\n",
    "            load: {'eopatch_folder': f'eopatch_{i}'},\n",
    "            export_tiff: {'filename': f'{tiff_location}/prediction_eopatch_{i}.tiff'},\n",
    "            save: {'eopatch_folder': f'eopatch_{i}'}\n",
    "        }\n",
    "    )\n",
    "\n",
    "# run the executor\n",
    "executor = EOExecutor(workflow, execution_args)\n",
    "executor.run(workers=1, multiprocess=False)\n",
    "#executor.make_report()"
   ]
  },
  {
   "cell_type": "code",
   "execution_count": null,
   "metadata": {},
   "outputs": [],
   "source": [
    "%%time\n",
    "# merge with gdal_merge.py (with compression) using bash command magic\n",
    "# gdal has to be installed on your computer!\n",
    "!gdal_merge.py -o predicted_tiff/merged_prediction.tiff -co compress=LZW predicted_tiff/prediction_eopatch_*"
   ]
  },
  {
   "cell_type": "markdown",
   "metadata": {},
   "source": [
    "### To correctly visualize the prediction we need to compare it to the reference"
   ]
  },
  {
   "cell_type": "code",
   "execution_count": null,
   "metadata": {},
   "outputs": [],
   "source": [
    "#load the LandCover classes\n",
    "class LndC(MultiValueEnum):\n",
    "    \"\"\" \n",
    "    Enum class containing LandCover types\n",
    "    \"\"\"\n",
    "    Woodland_and_Forest             = 'Woodland and Forest',  1, '#008000'\n",
    "    Shrub_and_Grassland             = 'Shrub and Grassland)', 2, '#9370DB'\n",
    "    Water                           = 'Water',                3, '#000080'\n",
    "    Mines                           = 'Mines',                4, '#8B0000'\n",
    "    Wetlands                        = 'Wetlands',             5, '#00CED1'\n",
    "    Bare_Non_Vegetated              = 'Bare Non-Vegetated',   6, '#FFFACD'\n",
    "    Cultivated_Commercial           = 'Cultivated_Commercial',7, '#DC143C'\n",
    "    Fallow_land                     = 'Fallow land',          8, '#F08080'\n",
    "    Formal_Residential              = 'Formal Residential',   9, '#FFA500'\n",
    "    Informal_Residential            = 'Informal Residential', 10, '#FF69B4'\n",
    "    Village                         = 'Village',              11, '#FF8C00'\n",
    "    Smallholding                    = 'Smallholding',         12, '#DDA0DD'\n",
    "    Urban_Recreation                = 'Urban Recreation',     13, '#7FFF00'\n",
    "    Commercial                      = 'Commercial',           14, '#FF005D'\n",
    "    Industrial                      = 'Industrial',           15, '#FFFF00'\n",
    "    Major_Road_and_Rail             = 'Major Road and Rail',  16, '#FFD700'\n",
    "    \n",
    "    @property\n",
    "    def id(self):\n",
    "        \"\"\" Returns an ID of an enum type\n",
    "        :return: An ID\n",
    "        :rtype: int\n",
    "        \"\"\"\n",
    "        return self.values[1]\n",
    "\n",
    "    @property\n",
    "    def color(self):\n",
    "        \"\"\" Returns class color\n",
    "        :return: A color in hexadecimal representation\n",
    "        :rtype: str\n",
    "        \"\"\"\n",
    "        return self.values[2]\n",
    "\n",
    "def get_bounds_from_ids(ids):\n",
    "    bounds = []\n",
    "    for i in range(len(ids)):\n",
    "        if i < len(ids) - 1:\n",
    "            if i == 0:\n",
    "                diff = (ids[i + 1] - ids[i]) / 2\n",
    "                bounds.append(ids[i] - diff)\n",
    "            diff = (ids[i + 1] - ids[i]) / 2\n",
    "            bounds.append(ids[i] + diff)\n",
    "        else:\n",
    "            diff = (ids[i] - ids[i - 1]) / 2\n",
    "            bounds.append(ids[i] + diff)\n",
    "    return bounds \n",
    "\n",
    "# Reference colormap things\n",
    "lulc_bounds = get_bounds_from_ids([x.id for x in LndC])\n",
    "lulc_cmap = ListedColormap([x.color for x in LndC], name=\"lulc_cmap\")\n",
    "lulc_norm = BoundaryNorm(lulc_bounds, lulc_cmap.N)"
   ]
  },
  {
   "cell_type": "markdown",
   "metadata": {},
   "source": [
    "### Visualise the prediction"
   ]
  },
  {
   "cell_type": "code",
   "execution_count": null,
   "metadata": {},
   "outputs": [],
   "source": [
    "#path_out_sampled = './eopatches_sampled'\n",
    "\n",
    "fig, axes = plt.subplots(nrows=5, ncols=5, figsize=(20, 25))\n",
    "\n",
    "for i, ax in zip(patchIDs, axes.flatten()):\n",
    "    eopatch = EOPatch.load(f'{path_out_sampled}/eopatch_{i}', lazy_loading=True)\n",
    "    #ax = axs[i//5][i%5]\n",
    "    im = ax.imshow(eopatch.mask_timeless['LBL_GBM'].squeeze(), cmap=lulc_cmap, norm=lulc_norm)\n",
    "    ax.set_xticks([])\n",
    "    ax.set_yticks([])\n",
    "    ax.set_aspect(\"auto\")\n",
    "    del eopatch\n",
    "\n",
    "fig.subplots_adjust(wspace=0, hspace=0)\n",
    "\n",
    "cb = fig.colorbar(im, ax=axes.ravel().tolist(), orientation='horizontal', pad=0.01, aspect=40)\n",
    "cb.ax.tick_params(labelsize=20) \n",
    "cb.set_ticks([entry.id for entry in LndC])\n",
    "cb.ax.set_xticklabels([entry.name for entry in LndC], rotation=45, fontsize=15)\n",
    "fig.savefig(f'figs/lndC_Prediction.png', bbox_inches='tight')\n",
    "plt.show()"
   ]
  },
  {
   "cell_type": "markdown",
   "metadata": {},
   "source": [
    "![image](figs/LndC_Prediction.png)"
   ]
  },
  {
   "cell_type": "markdown",
   "metadata": {},
   "source": [
    "### Visual inspection of patches\n",
    "\n",
    "Its possible to 'really' inspect the predictions. \n",
    "\n",
    "Specific or random subsets of ```Patches```, via ```idx``` can be chosen, where prediction and ground truth are compared. ```Inspect_size``` can be set to zoom. For visual aid the mask of differences and the true color image are also provided.\n",
    "\n",
    "The image below represents the bottom right corner of the far left middle row ```EOPatch``` idx = 71 - in the plot above."
   ]
  },
  {
   "cell_type": "code",
   "execution_count": null,
   "metadata": {},
   "outputs": [],
   "source": [
    "# Draw the Reference map\n",
    "fig = plt.figure(figsize=(20, 20))\n",
    "\n",
    "#manual select\n",
    "idx = 71\n",
    "w_min = 215\n",
    "h_min = 87\n",
    "\n",
    "#this sets the zoom\n",
    "inspect_size = 400\n",
    "\n",
    "#uncomment to randomly select\n",
    "#idx = np.random.choice(range(len(patchIDs)))\n",
    "\n",
    "eopatch = EOPatch.load(f'{path_out_sampled}/eopatch_{idx}', lazy_loading=True)\n",
    "\n",
    "w, h = eopatch.mask_timeless['LndC'].squeeze().shape\n",
    "\n",
    "#uncomment if random select is chosen\n",
    "#w_min = np.random.choice(range(w - inspect_size))\n",
    "#h_min = np.random.choice(range(h - inspect_size))\n",
    "\n",
    "ax = plt.subplot(2, 2, 1)\n",
    "plt.imshow(eopatch.mask_timeless['LndC'].squeeze()[w_min: w_min + inspect_size, h_min : h_min + inspect_size],\n",
    "           cmap=lulc_cmap, norm=lulc_norm)\n",
    "plt.xticks([])\n",
    "plt.yticks([])\n",
    "ax.set_aspect(\"auto\")\n",
    "plt.title('Ground Truth', fontsize=20)\n",
    "\n",
    "ax = plt.subplot(2, 2, 2)\n",
    "plt.imshow(eopatch.mask_timeless['LBL_GBM'].squeeze()[w_min: w_min + inspect_size, h_min: h_min + inspect_size],\n",
    "           cmap=lulc_cmap, norm=lulc_norm)\n",
    "plt.xticks([])\n",
    "plt.yticks([])\n",
    "ax.set_aspect(\"auto\")\n",
    "plt.title('Prediction', fontsize=20)\n",
    "\n",
    "ax = plt.subplot(2, 2, 3)\n",
    "mask = eopatch.mask_timeless['LBL_GBM'].squeeze() != eopatch.mask_timeless['LndC'].squeeze()\n",
    "plt.imshow(mask[w_min: w_min + inspect_size, h_min: h_min + inspect_size], cmap='gray')\n",
    "plt.xticks([])\n",
    "plt.yticks([]);\n",
    "ax.set_aspect(\"auto\")\n",
    "plt.title('Difference', fontsize=20)\n",
    "\n",
    "ax = plt.subplot(2, 2, 4)\n",
    "image = np.clip(eopatch.data['FEATURES'][0][..., [2, 1, 0]] * 3.5, 0, 1)\n",
    "plt.imshow(image[w_min: w_min + inspect_size, h_min: h_min + inspect_size])\n",
    "plt.xticks([])\n",
    "plt.yticks([]);\n",
    "ax.set_aspect(\"auto\")\n",
    "plt.title('True Color', fontsize=20)\n",
    "\n",
    "fig.subplots_adjust(wspace=0.1, hspace=0.1)\n",
    "fig.savefig(f'figs/Prediction_comparison_02.png', bbox_inches='tight')"
   ]
  },
  {
   "cell_type": "markdown",
   "metadata": {},
   "source": [
    "![image](figs/Prediction_comparison_02.png)"
   ]
  },
  {
   "cell_type": "markdown",
   "metadata": {},
   "source": [
    "## There we have it."
   ]
  }
 ],
 "metadata": {
  "kernelspec": {
   "display_name": "Python 3",
   "language": "python",
   "name": "python3"
  },
  "language_info": {
   "codemirror_mode": {
    "name": "ipython",
    "version": 3
   },
   "file_extension": ".py",
   "mimetype": "text/x-python",
   "name": "python",
   "nbconvert_exporter": "python",
   "pygments_lexer": "ipython3",
   "version": "3.6.10"
  }
 },
 "nbformat": 4,
 "nbformat_minor": 4
}
