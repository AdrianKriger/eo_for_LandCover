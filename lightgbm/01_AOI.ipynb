{
 "cells": [
  {
   "cell_type": "markdown",
   "metadata": {},
   "source": [
    "# Split Area Of Interest into tiles\n",
    "\n",
    "---\n",
    "\n",
    "This notebook does the following:\n",
    "\n",
    "1. Define area\n",
    "    * the boundary of the City of Cape Town (CoCT) was taken from the [Municipal Demarcation Board](http://www.demarcation.org.za/site/?page_id=5160) \n",
    "2. Convert it to selected CRS\n",
    "    * Lets go with UTM (UTM_34S)\n",
    "3. Tile it into non-overlaping BBOXes\n",
    "    * use `UtmZoneSplitter` from `sentinelhub` package    \n",
    "    * select a small area for classification\n",
    "4. Visualise the splitting\n",
    "5. Store the BBOXes to disk\n",
    "    * pickled list \n",
    "    * geopandas dataframe\n",
    "    \n",
    "**These BBOXes will be filled with reference data and satelite imagery in the following notebooks.**"
   ]
  },
  {
   "cell_type": "code",
   "execution_count": 1,
   "metadata": {},
   "outputs": [],
   "source": [
    "%reload_ext autoreload\n",
    "%autoreload 2\n",
    "%matplotlib inline"
   ]
  },
  {
   "cell_type": "code",
   "execution_count": 6,
   "metadata": {},
   "outputs": [],
   "source": [
    "import numpy as np\n",
    "import matplotlib.pyplot as plt\n",
    "from IPython.display import Image\n",
    "import os\n",
    "from sentinelhub import BBoxSplitter, BBox, CRS, DataSource, UtmZoneSplitter"
   ]
  },
  {
   "cell_type": "code",
   "execution_count": 3,
   "metadata": {},
   "outputs": [],
   "source": [
    "from pathlib import Path"
   ]
  },
  {
   "cell_type": "code",
   "execution_count": 4,
   "metadata": {},
   "outputs": [],
   "source": [
    "import geopandas as gpd\n",
    "import pandas as pd"
   ]
  },
  {
   "cell_type": "code",
   "execution_count": 5,
   "metadata": {},
   "outputs": [],
   "source": [
    "path = Path('data/')"
   ]
  },
  {
   "cell_type": "code",
   "execution_count": null,
   "metadata": {},
   "outputs": [],
   "source": [
    "#set .crs\n",
    "UTM34_crs = CRS.UTM_34S"
   ]
  },
  {
   "cell_type": "code",
   "execution_count": null,
   "metadata": {},
   "outputs": [],
   "source": [
    "UTM34_crs"
   ]
  },
  {
   "cell_type": "markdown",
   "metadata": {},
   "source": [
    "## Load Area-of-Interest (AOI) "
   ]
  },
  {
   "cell_type": "code",
   "execution_count": null,
   "metadata": {},
   "outputs": [],
   "source": [
    "city = gpd.read_file(str(path/'metropolitan_municipality_cpt.shp'))"
   ]
  },
  {
   "cell_type": "code",
   "execution_count": null,
   "metadata": {
    "scrolled": true
   },
   "outputs": [],
   "source": [
    "city.plot()"
   ]
  },
  {
   "cell_type": "code",
   "execution_count": null,
   "metadata": {},
   "outputs": [],
   "source": [
    "#check .crs\n",
    "city.crs"
   ]
  },
  {
   "cell_type": "code",
   "execution_count": null,
   "metadata": {
    "scrolled": true
   },
   "outputs": [],
   "source": [
    "#if no .crs defined... find out what it is.. and define one\n",
    "city.crs = \"EPSG:4326\""
   ]
  },
  {
   "cell_type": "code",
   "execution_count": null,
   "metadata": {},
   "outputs": [],
   "source": [
    "city.crs"
   ]
  },
  {
   "cell_type": "code",
   "execution_count": null,
   "metadata": {},
   "outputs": [],
   "source": [
    "#reproject\n",
    "city = city.to_crs(crs=UTM34_crs.pyproj_crs())"
   ]
  },
  {
   "cell_type": "code",
   "execution_count": null,
   "metadata": {},
   "outputs": [],
   "source": [
    "city.plot()"
   ]
  },
  {
   "cell_type": "code",
   "execution_count": null,
   "metadata": {},
   "outputs": [],
   "source": [
    "#check\n",
    "city.crs"
   ]
  },
  {
   "cell_type": "code",
   "execution_count": null,
   "metadata": {},
   "outputs": [],
   "source": [
    "#buffer\n",
    "city_buffer = city.buffer(500)"
   ]
  },
  {
   "cell_type": "code",
   "execution_count": null,
   "metadata": {},
   "outputs": [],
   "source": [
    "#get shape\n",
    "city_shape = city_buffer.geometry.tolist()[-1]"
   ]
  },
  {
   "cell_type": "markdown",
   "metadata": {},
   "source": [
    "### Estimate the size of the area"
   ]
  },
  {
   "cell_type": "code",
   "execution_count": null,
   "metadata": {},
   "outputs": [],
   "source": [
    "city_shape.bounds"
   ]
  },
  {
   "cell_type": "code",
   "execution_count": null,
   "metadata": {},
   "outputs": [],
   "source": [
    "print('Dimension of the area is {0:.0f} x {1:.0f} m2'\n",
    "      .format(city_shape.bounds[2]-city_shape.bounds[0],city_shape.bounds[3]-city_shape.bounds[1]))"
   ]
  },
  {
   "cell_type": "code",
   "execution_count": null,
   "metadata": {},
   "outputs": [],
   "source": [
    "width_pix = int((city_shape.bounds[2]-city_shape.bounds[0])/10)\n",
    "height_pix = int((city_shape.bounds[3]-city_shape.bounds[1])/10)"
   ]
  },
  {
   "cell_type": "code",
   "execution_count": null,
   "metadata": {},
   "outputs": [],
   "source": [
    "print('Dimension of the area is {} x {} pixels: if pixels are 10m x 10m'.format(width_pix, height_pix))"
   ]
  },
  {
   "cell_type": "markdown",
   "metadata": {},
   "source": [
    "# Perform tiling\n",
    "\n",
    "The number of columns and tiles is selected in such a way that each EOPatch will have around 500 x 500 pixels at 10 meter resolution (10 sqkm)."
   ]
  },
  {
   "cell_type": "code",
   "execution_count": null,
   "metadata": {},
   "outputs": [],
   "source": [
    "bbox_splitter = UtmZoneSplitter([city_shape], UTM34_crs, 5000) "
   ]
  },
  {
   "cell_type": "code",
   "execution_count": null,
   "metadata": {},
   "outputs": [],
   "source": [
    "print('Area bounding box: {}\\n'.format(bbox_splitter.get_area_bbox().__repr__()))"
   ]
  },
  {
   "cell_type": "code",
   "execution_count": null,
   "metadata": {
    "scrolled": true
   },
   "outputs": [],
   "source": [
    "bbox_list = bbox_splitter.get_bbox_list()\n",
    "info_list = bbox_splitter.get_info_list()\n",
    "\n",
    "print('Each bounding box also has some info. on how it was created. Example:\\n'\n",
    "      '\\nbbox: {}\\ninfo: {}\\n'.format(bbox_list[0].__repr__(), info_list[0]))"
   ]
  },
  {
   "cell_type": "code",
   "execution_count": null,
   "metadata": {},
   "outputs": [],
   "source": [
    "print(\"The total number of tiles are\",len(bbox_splitter.bbox_list))"
   ]
  },
  {
   "cell_type": "markdown",
   "metadata": {},
   "source": [
    "###  Convert to geopandas dataframe"
   ]
  },
  {
   "cell_type": "code",
   "execution_count": null,
   "metadata": {},
   "outputs": [],
   "source": [
    "#create a a gpd\n",
    "from shapely.geometry import Polygon"
   ]
  },
  {
   "cell_type": "code",
   "execution_count": null,
   "metadata": {},
   "outputs": [],
   "source": [
    "geometry = [Polygon(bbox.get_polygon()) for bbox in bbox_splitter.bbox_list]\n",
    "idxs_x = [info['index_x'] for info in bbox_splitter.info_list]\n",
    "idxs_y = [info['index_y'] for info in bbox_splitter.info_list]\n",
    "\n",
    "df = pd.DataFrame({'index_x':idxs_x, 'index_y':idxs_y})\n",
    "common_crs = bbox_splitter.bbox_list[0].crs\n",
    "geodf = gpd.GeoDataFrame(df, crs=common_crs.pyproj_crs(), geometry=geometry)"
   ]
  },
  {
   "cell_type": "code",
   "execution_count": null,
   "metadata": {
    "scrolled": true
   },
   "outputs": [],
   "source": [
    "geodf.head()"
   ]
  },
  {
   "cell_type": "code",
   "execution_count": null,
   "metadata": {},
   "outputs": [],
   "source": [
    "print(len(geodf))"
   ]
  },
  {
   "cell_type": "code",
   "execution_count": null,
   "metadata": {},
   "outputs": [],
   "source": [
    "#save the shape to pickle\n",
    "import pickle\n",
    "\n",
    "if not os.path.isdir('./data/tile-def'):\n",
    "    os.makedirs('./data/tile-def')"
   ]
  },
  {
   "cell_type": "code",
   "execution_count": null,
   "metadata": {
    "scrolled": true
   },
   "outputs": [],
   "source": [
    "# Within the area of interest select a smaller 5x5 area \n",
    "\n",
    "#id of center patch\n",
    "ID = 86\n",
    "\n",
    "# Obtain surrounding 5x5 patches\n",
    "patchIDs = []\n",
    "for idx, [bbox, info] in enumerate(zip(bbox_list, info_list)):\n",
    "    if (abs(info['index_x'] - info_list[ID]['index_x']) <= 2 and\n",
    "        abs(info['index_y'] - info_list[ID]['index_y']) <= 2):\n",
    "        patchIDs.append(idx)\n",
    "\n",
    "# Check if final size is 5x5\n",
    "if len(patchIDs) != 5*5:\n",
    "    print('Warning! Use a different central patch ID, this one is on the border.')\n",
    "    \n",
    "# Change the order of the patches (used for plotting later)\n",
    "patchIDs = np.transpose(np.fliplr(np.array(patchIDs).reshape(5, 5))).ravel()\n",
    "\n",
    "#save to pickle\n",
    "#name_crs_columns_rows_numbertiles\n",
    "with open('./data/tile-def/CoCT_500x500.pickle','wb') as fp:\n",
    "    pickle.dump(bbox_splitter, fp)"
   ]
  },
  {
   "cell_type": "code",
   "execution_count": null,
   "metadata": {
    "scrolled": true
   },
   "outputs": [],
   "source": [
    "#save the smaller selection to .shp\n",
    "smallerSelection = geodf[geodf.index.isin(patchIDs)]\n",
    "smallerSelection.head()"
   ]
  },
  {
   "cell_type": "code",
   "execution_count": null,
   "metadata": {},
   "outputs": [],
   "source": [
    "print(len(smallerSelection))"
   ]
  },
  {
   "cell_type": "code",
   "execution_count": null,
   "metadata": {},
   "outputs": [],
   "source": [
    "# save the small selection to shapefile \n",
    "shapefile_name = './data/tile-def/smallerSelection_CoCT_500x500.shp'\n",
    "smallerSelection.to_file(shapefile_name)"
   ]
  },
  {
   "cell_type": "markdown",
   "metadata": {},
   "source": [
    "## Visualise"
   ]
  },
  {
   "cell_type": "code",
   "execution_count": null,
   "metadata": {},
   "outputs": [],
   "source": [
    "fontdict = {'family': 'monospace', 'weight': 'normal', 'size': 11}\n",
    "\n",
    "# if bboxes have all same size, estimate offset\n",
    "xl, yl, xu, yu = geodf.geometry[0].bounds\n",
    "xoff, yoff = (xu-xl)/3, (yu-yl)/5\n",
    "\n",
    "# plot figure\n",
    "fig, ax = plt.subplots(figsize=(24,18))\n",
    "geodf.plot(ax=ax,facecolor='w',edgecolor='r',alpha=0.5)\n",
    "#smallerSelection.plot(ax=ax, facecolor='g',edgecolor='r',alpha=0.4)\n",
    "city.plot(ax=ax, facecolor='w',edgecolor='b',alpha=0.5)\n",
    "city_buffer.plot(ax=ax, facecolor='w',edgecolor='g',alpha=0.5)\n",
    "\n",
    "ax.set_title('City of Cape Town (with selection) in a 500 x 500 grid');\n",
    "# add annotiation text\n",
    "for idx in geodf.index:\n",
    "    eop_name = '{0}x{1}'.format(geodf.index_x[idx], geodf.index_y[idx])\n",
    "    centroid, = list(geodf.geometry[idx].centroid.coords)\n",
    "    ax.text(centroid[0]-xoff, centroid[1]+yoff, '{}'.format(idx), fontdict=fontdict)\n",
    "    ax.text(centroid[0]-xoff, centroid[1]-yoff, eop_name, fontdict=fontdict)\n",
    "\n",
    "geodf[geodf.index.isin(patchIDs)].plot(ax=ax,facecolor='g',edgecolor='r',alpha=0.5)\n",
    "    \n",
    "save the figure\n",
    "if not os.path.isdir('./figs'):\n",
    "    #os.makedirs('./figs')\n",
    "fig.savefig('./figs/aoi_500x500_tiles.png', bbox_inches='tight')"
   ]
  },
  {
   "attachments": {},
   "cell_type": "markdown",
   "metadata": {},
   "source": [
    "![title](./figs/aoi_500x500_tiles.png)"
   ]
  },
  {
   "cell_type": "code",
   "execution_count": null,
   "metadata": {},
   "outputs": [],
   "source": [
    "#save the grid of the bigger area\n",
    "geodf.to_file('./data/tile-def/city_bbox_32734_500x500_160.shp')"
   ]
  }
 ],
 "metadata": {
  "kernelspec": {
   "display_name": "Python 3",
   "language": "python",
   "name": "python3"
  },
  "language_info": {
   "codemirror_mode": {
    "name": "ipython",
    "version": 3
   },
   "file_extension": ".py",
   "mimetype": "text/x-python",
   "name": "python",
   "nbconvert_exporter": "python",
   "pygments_lexer": "ipython3",
   "version": "3.6.10"
  }
 },
 "nbformat": 4,
 "nbformat_minor": 2
}
