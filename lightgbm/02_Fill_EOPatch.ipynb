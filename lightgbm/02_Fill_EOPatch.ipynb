{
 "cells": [
  {
   "cell_type": "markdown",
   "metadata": {},
   "source": [
    "# Create EOPatch and fill with LC1 imagery and SANLC 2018 reference land cover\n",
    "\n",
    "---\n",
    "\n",
    "The `EOPatch` is created by filling it with Sentinel-2 satelite imagery and reference data. We'll use Sentinel Hub services to download and ```eo-learn``` to create the data for training.\n",
    "\n",
    "We will only use one image. But still be able to visulize and understand how this process works.\n",
    "\n",
    "An `EOPatch` is created and manipulated using `EOTasks` chained in an `EOWorkflow`. In this example the final `workflow` is a sequence of the following tasks:\n",
    "1. Create `EOPatch` by filling it with RGB LC1 data\n",
    "2. Add cloud mask\n",
    "3. Calculate Vegetation Indices\n",
    "3. Validate pixels\n",
    "4. Count number of valid observations per pixel using valid data mask\n",
    "5. Add reference SANLC to `EOPatch`\n",
    "6. Save EOPatch to disk\n",
    "7. Visualize the result."
   ]
  },
  {
   "cell_type": "code",
   "execution_count": null,
   "metadata": {},
   "outputs": [],
   "source": [
    "#from sentinelhub import SHConfig\n",
    "from sentinelhub import BBoxSplitter, CRS, MimeType, BBox, CustomUrlParam, SHConfig\n",
    "\n",
    "# In case you haven't put the credentials into the configuration file... \n",
    "INSTANCE_ID = ''\n",
    "\n",
    "if INSTANCE_ID:\n",
    "    config = SHConfig()\n",
    "    config.instance_id = INSTANCE_ID\n",
    "else:\n",
    "    config = None"
   ]
  },
  {
   "cell_type": "code",
   "execution_count": null,
   "metadata": {},
   "outputs": [],
   "source": [
    "# more credentials...\n",
    "\n",
    "# In case you haven't put the credentials into the configuration file...\n",
    "CLIENT_ID = ''              \n",
    "CLIENT_SECRET = ''      \n",
    "\n",
    "if CLIENT_ID and CLIENT_SECRET:\n",
    "    config = SHConfig()\n",
    "    config.sh_client_id = CLIENT_ID\n",
    "    config.sh_client_secret = CLIENT_SECRET\n",
    "else:\n",
    "    config = None"
   ]
  },
  {
   "cell_type": "code",
   "execution_count": null,
   "metadata": {},
   "outputs": [],
   "source": [
    "%reload_ext autoreload\n",
    "%autoreload 2\n",
    "%matplotlib inline"
   ]
  },
  {
   "cell_type": "code",
   "execution_count": 1,
   "metadata": {},
   "outputs": [],
   "source": [
    "# Built-in modules\n",
    "import pickle\n",
    "import sys\n",
    "import os\n",
    "import datetime\n",
    "import itertools\n",
    "from aenum import MultiValueEnum\n",
    "import geopandas as gpd\n",
    "import matplotlib.pyplot as plt\n",
    "from IPython.display import Image\n",
    "from matplotlib.colors import ListedColormap, BoundaryNorm\n",
    "from mpl_toolkits.axes_grid1 import make_axes_locatable\n",
    "import numpy as np\n",
    "\n",
    "from tqdm.auto import tqdm\n",
    "#tqdm.notebook.tqdm"
   ]
  },
  {
   "cell_type": "code",
   "execution_count": null,
   "metadata": {},
   "outputs": [],
   "source": [
    "from eolearn.core import EOTask, EOPatch, LinearWorkflow, FeatureType, OverwritePermission, LoadTask, SaveTask, EOExecutor, ExtractBandsTask\n",
    "from eolearn.io import ExportToTiff, SentinelHubInputTask, S2L1CWCSInput\n",
    "from eolearn.mask import AddMultiCloudMaskTask, AddValidDataMaskTask, AddCloudMaskTask, get_s2_pixel_cloud_detector\n",
    "from eolearn.geometry import VectorToRaster\n",
    "from eolearn.features import LinearInterpolation, SimpleFilterTask, NormalizedDifferenceIndexTask\n",
    "from sentinelhub import UtmZoneSplitter, BBox, CRS, DataSource\n",
    "import eolearn.visualization"
   ]
  },
  {
   "cell_type": "code",
   "execution_count": null,
   "metadata": {},
   "outputs": [],
   "source": [
    "import logging\n",
    "logging.getLogger(\"requests\").setLevel(logging.WARNING)\n",
    "logging.getLogger(\"urllib3\").setLevel(logging.WARNING)"
   ]
  },
  {
   "cell_type": "code",
   "execution_count": null,
   "metadata": {},
   "outputs": [],
   "source": [
    "import pickle"
   ]
  },
  {
   "cell_type": "code",
   "execution_count": null,
   "metadata": {},
   "outputs": [],
   "source": [
    "from pathlib import Path"
   ]
  },
  {
   "cell_type": "code",
   "execution_count": null,
   "metadata": {},
   "outputs": [],
   "source": [
    "path = Path('./')"
   ]
  },
  {
   "cell_type": "code",
   "execution_count": null,
   "metadata": {},
   "outputs": [],
   "source": [
    "sys.path.append('./utils')\n",
    "from utils.get_s2_sentinelhub import SentinelHubValidData, CountValid, NormalizedDifferenceIndex,ConcatenateData, ValidDataFractionPredicate"
   ]
  },
  {
   "cell_type": "code",
   "execution_count": null,
   "metadata": {},
   "outputs": [],
   "source": [
    "if not os.path.exists(path/'data'/'valid_count'):\n",
    "    os.makedirs(path/'data'/'valid_count')\n",
    "if not os.path.exists(path/'figs'):\n",
    "    os.makedirs(path/'figs')"
   ]
  },
  {
   "cell_type": "markdown",
   "metadata": {},
   "source": [
    "### Get smaller area (25 - 500x500 tiles)"
   ]
  },
  {
   "cell_type": "code",
   "execution_count": null,
   "metadata": {},
   "outputs": [],
   "source": [
    "#get small area from previous notebook\n",
    "with open(path/'data'/'tile-def'/'CoCT_500x500.pickle','rb') as fp:\n",
    "    bbox_splitter = pickle.load(fp)\n",
    "\n",
    "bbox_list = bbox_splitter.get_bbox_list()\n",
    "info_list = bbox_splitter.get_info_list()\n",
    "\n",
    "# Within the area of interest select a smaller 5x5 area \n",
    "#id of center patch\n",
    "ID = 86\n",
    "\n",
    "# Obtain surrounding 5x5 patches\n",
    "patchIDs = []\n",
    "for idx, [bbox, info] in enumerate(zip(bbox_list, info_list)):\n",
    "    if (abs(info['index_x'] - info_list[ID]['index_x']) <= 2 and\n",
    "        abs(info['index_y'] - info_list[ID]['index_y']) <= 2):\n",
    "        patchIDs.append(idx)\n",
    "\n",
    "# Check if final size is 5x5\n",
    "if len(patchIDs) != 5*5:\n",
    "    print('Warning! Use a different central patch ID, this one is on the border.')\n",
    "    \n",
    "# Change the order of the patches\n",
    "patchIDs = np.transpose(np.fliplr(np.array(patchIDs).reshape(5, 5))).ravel()"
   ]
  },
  {
   "cell_type": "code",
   "execution_count": null,
   "metadata": {},
   "outputs": [],
   "source": [
    "#print the shape and dimension of the array\n",
    "print(patchIDs.shape, patchIDs.ndim)"
   ]
  },
  {
   "cell_type": "code",
   "execution_count": null,
   "metadata": {},
   "outputs": [],
   "source": [
    "#export patchIDs with np.tofile - we'll  need this in the next notebook\n",
    "import numpy as np\n",
    "patchIDs.tofile('./data/tile-def/patchIDs.csv')"
   ]
  },
  {
   "cell_type": "code",
   "execution_count": null,
   "metadata": {},
   "outputs": [],
   "source": [
    "print(patchIDs)"
   ]
  },
  {
   "cell_type": "markdown",
   "metadata": {},
   "source": [
    "# eo-learn Workflow to create patches"
   ]
  },
  {
   "cell_type": "markdown",
   "metadata": {},
   "source": [
    "### Define what makes a pixel valid\n",
    "\n",
    "To create ````EOPatches````; fill them with Sentinel-2 data using Sentinel Hub services. We will add the following data to each EOPatch:\n",
    "\n",
    "    L1C custom list of bands [B02, B03, B04, B08, B11, B12], which corresponds to [B, G, R, NIR, SWIR1, SWIR2] wavelengths.\n",
    "\n",
    "    SentinelHub's cloud mask\n",
    "\n",
    "Additionally, we will add:\n",
    "\n",
    "    Calculated NDVI, NDWI, and NDBI information\n",
    "\n",
    "    A mask of validity, based on acquired data from Sentinel and cloud coverage. Valid pixel is if:\n",
    "        IS_DATA == True\n",
    "        CLOUD_MASK == 0 (1 indicates cloudy pixels and 255 indicates NO_DATA)"
   ]
  },
  {
   "cell_type": "code",
   "execution_count": null,
   "metadata": {},
   "outputs": [],
   "source": [
    "class SentinelHubValidData:\n",
    "    \"\"\"\n",
    "    Combine Sen2Cor's classification map with `IS_DATA` to define a `VALID_DATA_SH` mask\n",
    "    The SentinelHub's cloud mask is asumed to be found in eopatch.mask['CLM']\n",
    "    \"\"\"\n",
    "    def __call__(self, eopatch):        \n",
    "        return np.logical_and(eopatch.mask['IS_DATA'].astype(np.bool), \n",
    "                              np.logical_not(eopatch.mask['CLM'].astype(np.bool)))\n",
    "    \n",
    "class CountValid(EOTask):   \n",
    "    \"\"\"\n",
    "    The task counts number of valid observations in time-series and stores the results in the timeless mask.\n",
    "    \"\"\"\n",
    "    def __init__(self, count_what, feature_name):\n",
    "        self.what = count_what\n",
    "        self.name = feature_name\n",
    "        \n",
    "    def execute(self, eopatch):\n",
    "        eopatch.add_feature(FeatureType.MASK_TIMELESS, self.name, np.count_nonzero(eopatch.mask[self.what],axis=0))\n",
    "        \n",
    "        return eopatch"
   ]
  },
  {
   "cell_type": "markdown",
   "metadata": {},
   "source": [
    "### Define custom tasks"
   ]
  },
  {
   "cell_type": "markdown",
   "metadata": {},
   "source": [
    "## Initialise tasks"
   ]
  },
  {
   "cell_type": "code",
   "execution_count": null,
   "metadata": {},
   "outputs": [],
   "source": [
    "# TASK FOR BAND DATA\n",
    "# add a request for B(B02), G(B03), R(B04), NIR (B08), SWIR1(B11), SWIR2(B12)\n",
    "# from default layer 'ALL_BANDS' at 10m resolution\n",
    "# Here we also do a simple filter of cloudy scenes. A detailed cloud cover\n",
    "# detection is performed in the next step\n",
    "custom_script = 'return [B02, B03, B04, B08, B11, B12];'\n",
    "add_data = S2L1CWCSInput(\n",
    "    layer='BANDS-S2-L1C',\n",
    "    feature=(FeatureType.DATA, 'BANDS'), # save under name 'BANDS'\n",
    "    custom_url_params={CustomUrlParam.EVALSCRIPT: custom_script}, # custom url for 6 specific bands\n",
    "    resx='10m', # resolution x\n",
    "    resy='10m', # resolution y\n",
    "    maxcc=0.8, # maximum allowed cloud cover of original ESA tiles\n",
    ")\n",
    "#[B02, B03, B04, B08, B11, B12], which corresponds to [B, G, R, NIR, SWIR1, SWIR2]\n",
    "\n",
    "# TASK FOR CLOUD INFO\n",
    "# cloud detection is performed at 80m resolutionnand the resulting cloud probability map and mask\n",
    "# are scaled to EOPatch's resolution\n",
    "cloud_classifier = get_s2_pixel_cloud_detector(average_over=2, dilation_size=1, all_bands=False)\n",
    "add_clm = AddCloudMaskTask(cloud_classifier, 'BANDS-S2CLOUDLESS', cm_size_y='80m', cm_size_x='80m',\n",
    "                           cmask_feature='CLM', # cloud mask name\n",
    "                           cprobs_feature='CLP' # cloud prob. map name\n",
    "                          )\n",
    "\n",
    "# TASKS FOR CALCULATING NEW FEATURES\n",
    "# NDVI: (B08 - B04)/(B08 + B04)\n",
    "# NDWI: (B03 - B08)/(B03 + B08)\n",
    "# NORM: sqrt(B02^2 + B03^2 + B04^2 + B08^2 + B11^2 + B12^2)\n",
    "ndvi = NormalizedDifferenceIndex('NDVI', 'BANDS/3', 'BANDS/2')\n",
    "ndwi = NormalizedDifferenceIndex('NDWI', 'BANDS/1', 'BANDS/3')\n",
    "ndbi = NormalizedDifferenceIndex('NDBI', 'BANDS/4', 'BANDS/3')\n",
    "# TASK FOR VALID MASK\n",
    "# validate pixels using SentinelHub's cloud detection mask and region of acquisition\n",
    "add_sh_valmask = AddValidDataMaskTask(SentinelHubValidData(),\n",
    "                                      'IS_VALID' # name of output mask\n",
    "                                     )\n",
    "\n",
    "# TASK FOR COUNTING VALID PIXELS\n",
    "# count number of valid observations per pixel using valid data mask\n",
    "count_val_sh = CountValid('IS_VALID', # name of existing mask\n",
    "                          'VALID_COUNT' # name of output scalar\n",
    "                         )\n",
    "\n",
    "# TASK FOR SAVING TO OUTPUT (if needed)\n",
    "path_out = './data/eopatches/'\n",
    "if not os.path.isdir(path_out):\n",
    "    os.makedirs(path_out)\n",
    "save = SaveTask(path_out, overwrite_permission=OverwritePermission.OVERWRITE_PATCH)"
   ]
  },
  {
   "cell_type": "markdown",
   "metadata": {},
   "source": [
    "#### Reference map task\n",
    "\n",
    "For this example, the [South African National Land Cover (2018)](https://www.environment.gov.za/projectsprogrammes/egis_landcover_datasets) will serve as reference.\n",
    "\n",
    "We define a land cover enum class for each type.\n",
    "\n",
    "The point of this task is to create a raster mask from the vector polygons and add it to the `EOPatch`. With this procedure, any kind of a labeled shapefile can be transformed into a raster reference map. This result is achieved with the existing task `VectorToRaster` from the `eolearn.geometry` package. All polygons belonging to the each of the classes are separately burned to the raster mask."
   ]
  },
  {
   "cell_type": "code",
   "execution_count": null,
   "metadata": {},
   "outputs": [],
   "source": [
    "class LndC(MultiValueEnum):\n",
    "    \"\"\" \n",
    "    Enum class containing LandCover types\n",
    "    \"\"\"\n",
    "    Woodland_and_Forest             = 'Woodland and Forest',  1, '#008000'\n",
    "    Shrub_and_Grassland             = 'Shrub and Grassland)', 2, '#9370DB'\n",
    "    Water                           = 'Water',                3, '#000080'\n",
    "    Mines                           = 'Mines',                4, '#8B0000'\n",
    "    Wetlands                        = 'Wetlands',             5, '#00CED1'\n",
    "    Bare_Non_Vegetated              = 'Bare Non-Vegetated',   6, '#FFFACD'\n",
    "    Cultivated_Commercial           = 'Cultivated_Commercial',7, '#DC143C'\n",
    "    Fallow_land                     = 'Fallow land',          8, '#F08080'\n",
    "    Formal_Residential              = 'Formal Residential',   9, '#FFA500'\n",
    "    Informal_Residential            = 'Informal Residential', 10, '#FF69B4'\n",
    "    Village                         = 'Village',              11, '#FF8C00'\n",
    "    Smallholding                    = 'Smallholding',         12, '#DDA0DD'\n",
    "    Urban_Recreation                = 'Urban Recreation',     13, '#7FFF00'\n",
    "    Commercial                      = 'Commercial',           14, '#DAA520'\n",
    "    Industrial                      = 'Industrial',           15, '#B8860B'\n",
    "    Major_Road_and_Rail             = 'Major Road and Rail',  16, '#FFD700'\n",
    "    \n",
    "    @property\n",
    "    def id(self):\n",
    "        \"\"\" Returns an ID of an enum type\n",
    "        :return: An ID\n",
    "        :rtype: int\n",
    "        \"\"\"\n",
    "        return self.values[1]\n",
    "\n",
    "    @property\n",
    "    def color(self):\n",
    "        \"\"\" Returns class color\n",
    "        :return: A color in hexadecimal representation\n",
    "        :rtype: str\n",
    "        \"\"\"\n",
    "        return self.values[2]\n",
    "\n",
    "def get_bounds_from_ids(ids):\n",
    "    bounds = []\n",
    "    for i in range(len(ids)):\n",
    "        if i < len(ids) - 1:\n",
    "            if i == 0:\n",
    "                diff = (ids[i + 1] - ids[i]) / 2\n",
    "                bounds.append(ids[i] - diff)\n",
    "            diff = (ids[i + 1] - ids[i]) / 2\n",
    "            bounds.append(ids[i] + diff)\n",
    "        else:\n",
    "            diff = (ids[i] - ids[i - 1]) / 2\n",
    "            bounds.append(ids[i] + diff)\n",
    "    return bounds \n",
    "\n",
    "# Reference colormap things\n",
    "lulc_bounds = get_bounds_from_ids([x.id for x in LndC])\n",
    "lulc_cmap = ListedColormap([x.color for x in LndC], name=\"lulc_cmap\")\n",
    "lulc_norm = BoundaryNorm(lulc_bounds, lulc_cmap.N)"
   ]
  },
  {
   "cell_type": "code",
   "execution_count": null,
   "metadata": {},
   "outputs": [],
   "source": [
    "# depending on the size of the reference data: this might take some time\n",
    "land_use_ref_path = os.path.join(path/'data/', 'SANLC_2018_UTM32734.shp')\n",
    "land_use_ref = gpd.read_file(land_use_ref_path)\n",
    "\n",
    "rasterization_task = VectorToRaster(land_use_ref, (FeatureType.MASK_TIMELESS, 'LndC'),\n",
    "                                    values_column='DN', \n",
    "                                    raster_shape=(FeatureType.MASK,'IS_DATA'),raster_dtype=np.uint8)"
   ]
  },
  {
   "cell_type": "markdown",
   "metadata": {},
   "source": [
    "## Define workflow\n",
    "\n",
    "All the tasks thus far create and fill an ```EOPatch```. The tasks need to be put in some order and executed one by one. This can be achieved by manually executing the tasks, or more conveniently, defining an ```EOWorkflow```.\n",
    "\n",
    "The following workflow is created and executed:\n",
    "\n",
    "    Create EOPatch with band and cloud data\n",
    "    Calculate and add NDVI, NDWI, NORM\n",
    "    Add mask of valid pixels\n",
    "    Add scalar feature representing the count of valid pixels\n",
    "    Save eopatches\n",
    "\n",
    "Here the workflow is linear and is available as LinearWorkflow"
   ]
  },
  {
   "cell_type": "code",
   "execution_count": null,
   "metadata": {},
   "outputs": [],
   "source": [
    "# Define the workflow\n",
    "workflow = LinearWorkflow(\n",
    "    add_data,\n",
    "    add_clm,\n",
    "    ndvi,\n",
    "    ndwi,\n",
    "    ndbi,\n",
    "    add_sh_valmask,\n",
    "    count_val_sh,\n",
    "    rasterization_task,\n",
    "    save\n",
    ")\n",
    "\n",
    "# Let's visualize it\n",
    "workflow.dependency_graph()"
   ]
  },
  {
   "cell_type": "markdown",
   "metadata": {},
   "source": [
    "#### Execute the workflow on ONE tile"
   ]
  },
  {
   "cell_type": "code",
   "execution_count": null,
   "metadata": {},
   "outputs": [],
   "source": [
    "%%time\n",
    "\n",
    "#change the range as resources permit\n",
    "time_interval = ['2020-02-28','2020-03-02']\n",
    "\n",
    "#the ID is set to the center of the selected area\n",
    "bbox = bbox_splitter.bbox_list[ID]\n",
    "info = bbox_splitter.info_list[ID]\n",
    "\n",
    "patch_name = f'eopatch_{ID}'\n",
    "results = workflow.execute({add_data:{'bbox':bbox, 'time_interval':time_interval},\n",
    "                            save:{'eopatch_folder':patch_name}\n",
    "                           })"
   ]
  },
  {
   "cell_type": "code",
   "execution_count": null,
   "metadata": {},
   "outputs": [],
   "source": [
    "#what did it save/do?\n",
    "x = os.listdir(\"./data/eopatches/\")\n",
    "print(x)"
   ]
  },
  {
   "cell_type": "code",
   "execution_count": null,
   "metadata": {},
   "outputs": [],
   "source": [
    "#what is in this folder?\n",
    "EOPatch.load(os.path.join('./data/eopatches/', x[0]))"
   ]
  },
  {
   "cell_type": "markdown",
   "metadata": {},
   "source": [
    "#### Check the content of the first EOPatch"
   ]
  },
  {
   "cell_type": "code",
   "execution_count": null,
   "metadata": {},
   "outputs": [],
   "source": [
    "patch = list(results.values())[-1]"
   ]
  },
  {
   "cell_type": "code",
   "execution_count": null,
   "metadata": {},
   "outputs": [],
   "source": [
    "#What is in this Patch?\n",
    "patch.get_features()"
   ]
  },
  {
   "cell_type": "code",
   "execution_count": null,
   "metadata": {},
   "outputs": [],
   "source": [
    "#check the date \n",
    "patch.timestamp"
   ]
  },
  {
   "cell_type": "markdown",
   "metadata": {},
   "source": [
    "#### Plot RGB, SCL, Cloud probability, and valid pixels (observations)"
   ]
  },
  {
   "cell_type": "code",
   "execution_count": null,
   "metadata": {},
   "outputs": [],
   "source": [
    "def plot_frame(patch, idx, save_fig=True):\n",
    "    fig, axs = plt.subplots(nrows=3, ncols=2, figsize=(25,25)) \n",
    "\n",
    "    axs[0,0].imshow(np.clip(patch.data['BANDS'][idx][..., [2, 1, 0]] * 3.5, 0, 1))\n",
    "    axs[0,0].set_title(f'RGB {patch.timestamp[idx]}') \n",
    "    axs[0,1].imshow(patch.data['NDBI'][idx,...,0], cmap=plt.cm.inferno)\n",
    "    axs[0,1].set_title(f'Built-up Index {patch.timestamp[idx]}')\n",
    "    axs[1,0].imshow(patch.data['NDVI'][idx].squeeze(),cmap=plt.get_cmap('YlGn'))\n",
    "    axs[1,0].set_title(f'Vegatation Index {patch.timestamp[idx]}') \n",
    " \n",
    "    divider = make_axes_locatable(axs[1,1])\n",
    "    cax = divider.append_axes('right', size='5%', pad=0.05)\n",
    "    im = axs[1,1].imshow(patch.data['CLP'][idx,...,0],cmap=plt.cm.magma, vmin=0.0, vmax=1.0)\n",
    "    fig.colorbar(im, cax=cax, orientation='vertical')\n",
    "    \n",
    "    axs[1,1].imshow(patch.data['CLP'][idx,...,0],cmap=plt.cm.inferno)\n",
    "    axs[1,1].set_title(f'Cloud Probability {patch.timestamp[idx]}')\n",
    "    \n",
    "    axs[2,0].imshow(patch.mask['IS_VALID'].squeeze(),cmap=plt.cm.inferno)\n",
    "    axs[2,0].set_title(f'Valid Pixels {patch.timestamp[idx]}') \n",
    "    axs[2,1].imshow(patch.mask_timeless['LndC'].squeeze(), cmap=lulc_cmap, norm=lulc_norm)\n",
    "    axs[2,1].set_title(f'Land Cover {patch.timestamp[idx]}')\n",
    "    \n",
    "    #fig.subplots_adjust(wspace=0.0, hspace=0.0)\n",
    "    #axs.set_aspect(\"auto\")\n",
    "    plt.show()\n",
    "    \n",
    "    if save_fig:\n",
    "        fig.savefig(f'figs/patch_{idx}.png', bbox_inches='tight')\n",
    "        fig.clf()"
   ]
  },
  {
   "cell_type": "code",
   "execution_count": null,
   "metadata": {},
   "outputs": [],
   "source": [
    "#plot the satelite imagery, valid pixels, scene classification and cloud probability\n",
    "plot_frame(patch, 0)"
   ]
  },
  {
   "attachments": {},
   "cell_type": "markdown",
   "metadata": {},
   "source": [
    "![title](figs/patch_0.png)"
   ]
  },
  {
   "cell_type": "markdown",
   "metadata": {},
   "source": [
    "## Run workflow on all tiles"
   ]
  },
  {
   "cell_type": "code",
   "execution_count": null,
   "metadata": {},
   "outputs": [],
   "source": [
    "workflow = LinearWorkflow(\n",
    "    add_data,\n",
    "    add_clm,\n",
    "    ndvi,\n",
    "    ndwi,\n",
    "    ndbi,\n",
    "    add_sh_valmask,\n",
    "    count_val_sh,\n",
    "    rasterization_task,\n",
    "    save)"
   ]
  },
  {
   "cell_type": "code",
   "execution_count": null,
   "metadata": {},
   "outputs": [],
   "source": [
    "def execute_workflow(tile_idx):\n",
    "    bbox = bbox_splitter.bbox_list[tile_idx]\n",
    "    info = bbox_splitter.info_list[tile_idx]\n",
    "    patch_name = f'eopatch_{tile_idx}'\n",
    "    \n",
    "    results = workflow.execute({add_data:{'bbox':bbox, 'time_interval':time_interval},\n",
    "                                save:{'eopatch_folder':patch_name}\n",
    "                               })\n",
    "    del results"
   ]
  },
  {
   "cell_type": "code",
   "execution_count": null,
   "metadata": {},
   "outputs": [],
   "source": [
    "%%time\n",
    "\n",
    "pbar = tqdm(total=len(patchIDs))\n",
    "\n",
    "for i in patchIDs:\n",
    "    execute_workflow(i)\n",
    "    pbar.update(1)"
   ]
  },
  {
   "cell_type": "markdown",
   "metadata": {},
   "source": [
    "## Lets have a look at what we have."
   ]
  },
  {
   "cell_type": "markdown",
   "metadata": {},
   "source": [
    "#### RGB Color Image"
   ]
  },
  {
   "cell_type": "code",
   "execution_count": null,
   "metadata": {},
   "outputs": [],
   "source": [
    "# Draw the RGB image\n",
    "path_out = './data/eopatches'\n",
    "fig, axes = plt.subplots(nrows=5, ncols=5, figsize=(15, 15))\n",
    "\n",
    "date = datetime.datetime(2020,3,1)\n",
    "\n",
    "for i, ax in zip(patchIDs, axes.flatten()):\n",
    "    eopatch = EOPatch.load(f'{path_out}/eopatch_{i}', lazy_loading=True)\n",
    "    dates = np.array(eopatch.timestamp)\n",
    "    closest_date_id = np.argsort(abs(date-dates))[0]\n",
    "    ax.imshow(np.clip(eopatch.data['BANDS'][closest_date_id][..., [2, 1, 0]] * 3.5, 0, 1))\n",
    "    ax.set_xticks([])\n",
    "    ax.set_yticks([])\n",
    "    ax.set_aspect(\"auto\")\n",
    "\n",
    "fig.subplots_adjust(wspace=0, hspace=0)\n",
    "fig.savefig(f'figs/RGB_area.png', bbox_inches='tight')"
   ]
  },
  {
   "attachments": {},
   "cell_type": "markdown",
   "metadata": {},
   "source": [
    "![title](figs/RGB_area.png)"
   ]
  },
  {
   "cell_type": "markdown",
   "metadata": {},
   "source": [
    "#### Map of Valid Pixels"
   ]
  },
  {
   "cell_type": "code",
   "execution_count": null,
   "metadata": {},
   "outputs": [],
   "source": [
    "# Draw the Valid Pixels\n",
    "#path_out = './data/test_eopatch'\n",
    "\n",
    "fig, axes = plt.subplots(nrows=5, ncols=5, figsize=(15, 15))\n",
    "\n",
    "for i, ax in zip(patchIDs, axes.flatten()):\n",
    "    eopatch = EOPatch.load(f'{path_out}/eopatch_{i}', lazy_loading=True)\n",
    "    ax.imshow(eopatch.mask_timeless['VALID_COUNT'].squeeze(),\n",
    "                      cmap=plt.cm.inferno, vmin=0, vmax=np.max(eopatch.mask_timeless['VALID_COUNT']))\n",
    "    ax.set_xticks([])\n",
    "    ax.set_yticks([])\n",
    "    ax.set_aspect(\"auto\")\n",
    "\n",
    "fig.subplots_adjust(wspace=0, hspace=0)\n",
    "fig.savefig(f'figs/ValidPixels.png', bbox_inches='tight')"
   ]
  },
  {
   "attachments": {},
   "cell_type": "markdown",
   "metadata": {},
   "source": [
    "![title](figs/ValidPixels.png)"
   ]
  },
  {
   "cell_type": "markdown",
   "metadata": {},
   "source": [
    "#### Built-Up Index"
   ]
  },
  {
   "cell_type": "code",
   "execution_count": null,
   "metadata": {},
   "outputs": [],
   "source": [
    "# Draw the Valid Pixels\n",
    "\n",
    "fig, axes = plt.subplots(nrows=5, ncols=5, figsize=(15, 15))\n",
    "\n",
    "for i, ax in zip(patchIDs, axes.flatten()):\n",
    "    eopatch = EOPatch.load(f'{path_out}/eopatch_{i}', lazy_loading=True)\n",
    "    ax.imshow(eopatch.data['NDBI'].squeeze(), vmin=0, vmax=0.85, cmap=plt.cm.viridis)# np.max(eopatch.data['NDBI']),cmap=plt.cm.jet)\n",
    "    ax.set_xticks([])\n",
    "    ax.set_yticks([])\n",
    "    ax.set_aspect(\"auto\")\n",
    "\n",
    "fig.subplots_adjust(wspace=0, hspace=0)\n",
    "fig.savefig(f'figs/NDBI.png', bbox_inches='tight')"
   ]
  },
  {
   "attachments": {},
   "cell_type": "markdown",
   "metadata": {},
   "source": [
    "![title](figs/NDBI.png)"
   ]
  },
  {
   "cell_type": "markdown",
   "metadata": {},
   "source": [
    "#### Vegetation Indices"
   ]
  },
  {
   "cell_type": "code",
   "execution_count": null,
   "metadata": {},
   "outputs": [],
   "source": [
    "fig, axes = plt.subplots(nrows=5, ncols=5, figsize=(15, 15))\n",
    "    \n",
    "path_out = './data/eopatches'\n",
    "    \n",
    "for i, ax in zip(patchIDs, axes.flatten()):\n",
    "    eopatch = EOPatch.load(f'{path_out}/eopatch_{i}', lazy_loading=True)\n",
    "    #ax = axs[i//5][i%5]\n",
    "    #ndvi = eopatch.data['NDVI']\n",
    "    #mask = eopatch.mask['IS_VALID']\n",
    "    #ndvi[~mask] = np.nan\n",
    "    #ndvi_mean = np.nanmean(ndvi, axis=0).squeeze()\n",
    "    im = ax.imshow(eopatch.data['NDVI'].squeeze(),cmap=plt.get_cmap('YlGn'))\n",
    "    ax.set_xticks([])\n",
    "    ax.set_yticks([])\n",
    "    ax.set_aspect(\"auto\")\n",
    "    #del eopatch\n",
    "\n",
    "fig.subplots_adjust(wspace=0, hspace=0)\n",
    "\n",
    "cb = fig.colorbar(im, ax=axs.ravel().tolist(), orientation='horizontal', pad=0.01, aspect=100)\n",
    "cb.ax.tick_params(labelsize=20) \n",
    "fig.savefig(f'figs/NDVI.png', bbox_inches='tight')"
   ]
  },
  {
   "attachments": {},
   "cell_type": "markdown",
   "metadata": {},
   "source": [
    "![title](figs/NDVI.png)"
   ]
  },
  {
   "cell_type": "markdown",
   "metadata": {},
   "source": [
    "#### South African Nationl Land Cover - 2018"
   ]
  },
  {
   "cell_type": "code",
   "execution_count": null,
   "metadata": {},
   "outputs": [],
   "source": [
    "# Draw SANLC\n",
    "fig, axes = plt.subplots(nrows=5, ncols=5, figsize=(20, 20))\n",
    "\n",
    "for i, ax in zip(patchIDs, axes.flatten()):\n",
    "    eopatch = EOPatch.load(f'{path_out}/eopatch_{i}', lazy_loading=True)\n",
    "    #dates = np.array(eopatch.timestamp)\n",
    "    #closest_date_id = np.argsort(abs(date-dates))[0]\n",
    "    im = ax.imshow(eopatch.mask_timeless['LndC'].squeeze(), cmap=lulc_cmap, norm=lulc_norm)\n",
    "    ax.set_xticks([])\n",
    "    ax.set_yticks([])\n",
    "    ax.set_aspect(\"auto\")\n",
    "\n",
    "fig.subplots_adjust(wspace=0, hspace=0)\n",
    "\n",
    "cb = fig.colorbar(im, ax=axes.ravel().tolist(), orientation='vertical', pad=0.02, aspect=90)\n",
    "cb.ax.tick_params(labelsize=15) \n",
    "cb.set_ticks([entry.id for entry in LndC])\n",
    "cb.ax.set_xticklabels([entry.name for entry in LndC], rotation=45, fontsize=15)\n",
    "fig.savefig(f'figs/LandCover.png', bbox_inches='tight')"
   ]
  },
  {
   "attachments": {},
   "cell_type": "markdown",
   "metadata": {},
   "source": [
    "![title](figs/LandCover.png)"
   ]
  },
  {
   "cell_type": "markdown",
   "metadata": {},
   "source": [
    "#### Overlay Land Cover and RGB"
   ]
  },
  {
   "cell_type": "code",
   "execution_count": null,
   "metadata": {},
   "outputs": [],
   "source": [
    "\n",
    "eopatch = EOPatch.load(f'{path_out}/eopatch_{86}')\n",
    "\n",
    "fig, axs = plt.subplots(figsize=(15,15)) \n",
    "\n",
    "axs.imshow(np.clip(eopatch.data['BANDS'][0][..., [2, 1, 0]] * 3.5, 0, 1))\n",
    "im = axs.imshow(eopatch.mask_timeless['LndC'].squeeze(), cmap=lulc_cmap, norm=lulc_norm, alpha = 0.4)\n",
    "\n",
    "cb = fig.colorbar(im, orientation='horizontal', pad=0.01, aspect=100)\n",
    "cb.ax.tick_params(labelsize=11) \n",
    "cb.set_ticks([entry.id for entry in LndC])\n",
    "cb.ax.set_xticklabels([entry.name for entry in LndC], rotation=30, fontsize=11)\n",
    "plt.show()\n",
    "    \n",
    "fig.savefig(f'figs/LCover_over_RGB.png', bbox_inches='tight')"
   ]
  },
  {
   "attachments": {},
   "cell_type": "markdown",
   "metadata": {},
   "source": [
    "![title](figs/patch_159.png)"
   ]
  },
  {
   "cell_type": "code",
   "execution_count": null,
   "metadata": {},
   "outputs": [],
   "source": []
  }
 ],
 "metadata": {
  "kernelspec": {
   "display_name": "Python 3",
   "language": "python",
   "name": "python3"
  },
  "language_info": {
   "codemirror_mode": {
    "name": "ipython",
    "version": 3
   },
   "file_extension": ".py",
   "mimetype": "text/x-python",
   "name": "python",
   "nbconvert_exporter": "python",
   "pygments_lexer": "ipython3",
   "version": "3.6.10"
  }
 },
 "nbformat": 4,
 "nbformat_minor": 2
}
